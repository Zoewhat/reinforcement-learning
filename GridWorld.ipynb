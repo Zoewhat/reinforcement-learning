{
 "cells": [
  {
   "cell_type": "code",
   "execution_count": 70,
   "metadata": {},
   "outputs": [],
   "source": [
    "import numpy as np\n",
    "import random\n",
    "from itertools import product\n",
    "import matplotlib.pyplot as plt"
   ]
  },
  {
   "cell_type": "markdown",
   "metadata": {},
   "source": [
    "# GridWorld Problem\n",
    "### Step 1: Environment"
   ]
  },
  {
   "cell_type": "code",
   "execution_count": 75,
   "metadata": {},
   "outputs": [],
   "source": [
    "class GridWorld:\n",
    "    def __init__(self, n, blocks, bomb, gold, init_state, unreliability = 0.2):\n",
    "        self.n = n # grid size (n x n)\n",
    "        self.blocks = blocks # block position (unpassable)\n",
    "        self.bomb = bomb # bomb position (terminal bad state)\n",
    "        self.gold = gold # gold position (terminal good state)\n",
    "        self.state = init_state # initial state\n",
    "        self.state_init = init_state # initial state\n",
    "        self.terminal = False\n",
    "        self.unreliability = unreliability\n",
    "\n",
    "    def reset(self):\n",
    "        self.state = (0,0)\n",
    "        self.terminal = False\n",
    "        return self.state\n",
    "    \n",
    "    def step(self, ori_action, state = None):\n",
    "        if state == None:\n",
    "            state = self.state\n",
    "\n",
    "        if self.terminal:\n",
    "            return self.state, 0, True # returns state, reward, terminate or not\n",
    "        \n",
    "        if random.random() < self.unreliability:\n",
    "            action = random.choice([0,1,2,3]) # up, down, left, right\n",
    "        else:\n",
    "            action = ori_action\n",
    "\n",
    "        if action == 0: # up\n",
    "            next_state = (max(state[0] - 1, 0), state[1])\n",
    "        elif action == 1: # down\n",
    "            next_state = (min(state[0] + 1, self.n - 1), state[1])\n",
    "        elif action == 2: # left\n",
    "            next_state = (state[0], max(state[1] - 1, 0))\n",
    "        elif action == 3: # right\n",
    "            next_state = (state[0], min(state[1] + 1, self.n - 1))\n",
    "\n",
    "        if next_state in self.blocks:\n",
    "            next_state = self.state\n",
    "\n",
    "        self.state = next_state\n",
    "\n",
    "        # check terminal states\n",
    "        if self.state == self.bomb:\n",
    "            self.terminal = True\n",
    "            return self.state, -100, True\n",
    "        elif self.state == self.gold:\n",
    "            self.terminal = True\n",
    "            return self.state, 100, True\n",
    "        return self.state, -1, False\n",
    "    \n",
    "    def plot_policy(self, q):\n",
    "        n = q.shape[0]\n",
    "        fig, ax = plt.subplots(figsize=(n, n))\n",
    "        for i, j in product(range(self.n), repeat = 2):\n",
    "            if (i, j) not in [self.bomb, self.gold] + self.blocks:\n",
    "                ax.arrow(j + 0.5, n - i - 0.5, *[(0, 0.2), (0, -0.2), (-0.2, 0), (0.2, 0)][q[i, j]], head_width=0.1)\n",
    "        \n",
    "        for position, color, label in [(self.state_init, 'b', 'start'), (self.bomb, 'r', 'bomb'), (self.gold, 'y', 'gold')]:\n",
    "            ax.add_patch(plt.Circle((position[1] + 0.5, n - position[0] - 0.5), 0.2, color=color, label=label))\n",
    "        \n",
    "        for x in self.blocks:\n",
    "            ax.add_patch(plt.Rectangle((x[1], n - x[0] - 1), 1, 1, color='gray', alpha=0.5, label='block' if x == self.blocks[0] else ''))\n",
    "\n",
    "        ax.set(xlim=(0, n), ylim=(0, n), xticks=range(n), yticks=range(n), xticklabels=range(n), yticklabels=range(n)[::-1])\n",
    "        ax.grid(True)\n",
    "        ax.legend(ncol=4, bbox_to_anchor=(0.5, -0.1), loc='upper center')\n",
    "        plt.show()"
   ]
  },
  {
   "cell_type": "markdown",
   "metadata": {},
   "source": [
    "### Step 2: MDP Solution (Value Iteration)"
   ]
  },
  {
   "cell_type": "code",
   "execution_count": 76,
   "metadata": {},
   "outputs": [],
   "source": [
    "class MDP:\n",
    "    def __init__(self, grid_world, discount = 0.9, theta = 1e-6): # environment, discount_rate, converge_threshold\n",
    "        self.env = grid_world\n",
    "        self.discount = discount\n",
    "        self.theta = theta\n",
    "        self.n = grid_world.n\n",
    "        self.values = np.zeros((self.n, self.n))\n",
    "        self.policy = np.zeros((self.n, self.n), dtype = int)\n",
    "\n",
    "    def simulate(self, state, action):\n",
    "        next_state, reward, done = self.env.step(action, state)\n",
    "        self.env.reset()\n",
    "        return next_state, reward, done\n",
    "\n",
    "    def value_iteration(self):\n",
    "        while True: \n",
    "            delta = 0 \n",
    "            for i, j in product(range(self.n), repeat=2): \n",
    "                state = (i, j)\n",
    "                if state in [self.env.bomb, self.env.gold]:\n",
    "                    continue\n",
    "\n",
    "                # Store action values in a list to avoid repeated calls\n",
    "                action_values = []\n",
    "                for action in range(4):\n",
    "                    next_state, reward, _ = self.simulate(state, action)\n",
    "                    action_value = reward + self.discount * self.values[next_state[0], next_state[1]]\n",
    "                    action_values.append(action_value)\n",
    "\n",
    "                # Best action value for the current state\n",
    "                best_value = max(action_values)\n",
    "                best_action = np.argmax(action_values)\n",
    "\n",
    "                # Update the value function and policy\n",
    "                delta = max(delta, abs(self.values[i, j] - best_value))\n",
    "                self.values[i, j] = best_value\n",
    "                self.policy[i, j] = best_action\n",
    "\n",
    "            # Check for convergence\n",
    "            if delta < self.theta:\n",
    "                break\n",
    "\n"
   ]
  },
  {
   "cell_type": "markdown",
   "metadata": {},
   "source": [
    "### Step 3: Q-learning Solution"
   ]
  },
  {
   "cell_type": "code",
   "execution_count": 77,
   "metadata": {},
   "outputs": [],
   "source": [
    "class QLearning:\n",
    "    def __init__(self, grid_world, alpha = 0.01, gamma = 0.9, epsilon = 0.2, episodes = 1000):\n",
    "        self.env = grid_world\n",
    "        self.alpha = alpha # learning rate\n",
    "        self.gamma = gamma # discount factor -> when tuning, keep this high 0.99, and play around with other parameters\n",
    "        self.epsilon = epsilon # exploration rate\n",
    "        self.episodes = episodes\n",
    "        self.q_table = np.zeros((self.env.n, self.env.n, 4)) # q-values for each state-action\n",
    "\n",
    "    def choose_action(self, state):\n",
    "        if random.random() < self.epsilon:\n",
    "            return random.randint(0, 3) \n",
    "        else:\n",
    "            return np.argmax(self.q_table[state[0], state[1]])\n",
    "        \n",
    "    def learn(self):\n",
    "        for episode in range(self.episodes):\n",
    "            state = self.env.reset()\n",
    "            done = False\n",
    "            while not done:\n",
    "                action = self.choose_action(state)\n",
    "                next_state, reward, done = self.env.step(action)\n",
    "                best_next_action = np.argmax(self.q_table[next_state[0], next_state[1]])\n",
    "                self.q_table[state[0], state[1], action] += self.alpha * (\n",
    "                    reward \n",
    "                    + self.gamma * self.q_table[next_state[0], next_state[1], best_next_action]\n",
    "                    - self.q_table[state[0], state[1], action])\n",
    "                state = next_state\n"
   ]
  },
  {
   "cell_type": "markdown",
   "metadata": {},
   "source": [
    "### Step 4: Run Comparison"
   ]
  },
  {
   "cell_type": "code",
   "execution_count": 78,
   "metadata": {},
   "outputs": [
    {
     "name": "stdout",
     "output_type": "stream",
     "text": [
      "Optimal Policy (MDP):\n"
     ]
    },
    {
     "data": {
      "image/png": "[encoded data removed]",
      "text/plain": [
       "<Figure size 500x500 with 1 Axes>"
      ]
     },
     "metadata": {},
     "output_type": "display_data"
    },
    {
     "name": "stdout",
     "output_type": "stream",
     "text": [
      "Optimal Policy (Q-learning):\n"
     ]
    },
    {
     "data": {
      "image/png": "[encoded data removed]",
      "text/plain": [
       "<Figure size 500x500 with 1 Axes>"
      ]
     },
     "metadata": {},
     "output_type": "display_data"
    }
   ],
   "source": [
    "grid_world = GridWorld(n = 5, init_state = (1,0), blocks = [(1,1), (1,3)], bomb = (3,3), gold = (4,4))\n",
    "\n",
    "# MDP\n",
    "mdp_solver = MDP(grid_world)\n",
    "mdp_solver.value_iteration()\n",
    "print(\"Optimal Policy (MDP):\")\n",
    "policy = mdp_solver.policy\n",
    "grid_world.plot_policy(policy)\n",
    "\n",
    "# Q-learning\n",
    "q_learning_solver = QLearning(grid_world)\n",
    "q_learning_solver.learn()\n",
    "policy = np.argmax(q_learning_solver.q_table, axis=2)\n",
    "print(\"Optimal Policy (Q-learning):\")\n",
    "grid_world.plot_policy(policy)\n",
    "\n"
   ]
  },
  {
   "cell_type": "code",
   "execution_count": null,
   "metadata": {},
   "outputs": [],
   "source": []
  }
 ],
 "metadata": {
  "kernelspec": {
   "display_name": "base",
   "language": "python",
   "name": "python3"
  },
  "language_info": {
   "codemirror_mode": {
    "name": "ipython",
    "version": 3
   },
   "file_extension": ".py",
   "mimetype": "text/x-python",
   "name": "python",
   "nbconvert_exporter": "python",
   "pygments_lexer": "ipython3",
   "version": "3.9.18"
  }
 },
 "nbformat": 4,
 "nbformat_minor": 2
}
